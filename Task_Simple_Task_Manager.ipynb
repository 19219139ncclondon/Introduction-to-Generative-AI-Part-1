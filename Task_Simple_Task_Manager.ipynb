{
  "nbformat": 4,
  "nbformat_minor": 0,
  "metadata": {
    "colab": {
      "provenance": [],
      "include_colab_link": true
    },
    "kernelspec": {
      "name": "python3",
      "display_name": "Python 3"
    },
    "language_info": {
      "name": "python"
    }
  },
  "cells": [
    {
      "cell_type": "markdown",
      "metadata": {
        "id": "view-in-github",
        "colab_type": "text"
      },
      "source": [
        "<a href=\"https://colab.research.google.com/github/harryguiacorn/Introduction-to-Generative-AI-Part-1/blob/main/Task_Simple_Task_Manager.ipynb\" target=\"_parent\"><img src=\"https://colab.research.google.com/assets/colab-badge.svg\" alt=\"Open In Colab\"/></a>"
      ]
    },
    {
      "cell_type": "markdown",
      "source": [
        "# Clone git repo"
      ],
      "metadata": {
        "id": "pFuLb5CObmRE"
      }
    },
    {
      "cell_type": "code",
      "execution_count": null,
      "metadata": {
        "id": "ahVcGGHA_SL1",
        "colab": {
          "base_uri": "https://localhost:8080/"
        },
        "outputId": "3b79243b-678d-4cbe-8af4-9c110fea17a7"
      },
      "outputs": [
        {
          "output_type": "stream",
          "name": "stdout",
          "text": [
            "Cloning into 'Introduction-to-Generative-AI-Part-1'...\n",
            "remote: Enumerating objects: 47, done.\u001b[K\n",
            "remote: Counting objects: 100% (47/47), done.\u001b[K\n",
            "remote: Compressing objects: 100% (42/42), done.\u001b[K\n",
            "remote: Total 47 (delta 13), reused 24 (delta 4), pack-reused 0\u001b[K\n",
            "Receiving objects: 100% (47/47), 13.55 KiB | 6.78 MiB/s, done.\n",
            "Resolving deltas: 100% (13/13), done.\n"
          ]
        }
      ],
      "source": [
        "!git clone https://github.com/harryguiacorn/Introduction-to-Generative-AI-Part-1.git"
      ]
    },
    {
      "cell_type": "markdown",
      "source": [
        "# Run application"
      ],
      "metadata": {
        "id": "jEGZiy1-bzjb"
      }
    },
    {
      "cell_type": "code",
      "source": [
        "!python /content/Introduction-to-Generative-AI-Part-1/Task-Simple-Task-Manager/App.py"
      ],
      "metadata": {
        "id": "Jm3YDmAa_oRf"
      },
      "execution_count": null,
      "outputs": []
    },
    {
      "cell_type": "markdown",
      "source": [
        "# Classes"
      ],
      "metadata": {
        "id": "GT8Ujwbyb4gN"
      }
    },
    {
      "cell_type": "markdown",
      "source": [
        "## App.py"
      ],
      "metadata": {
        "id": "nAaUcF6TbbCs"
      }
    },
    {
      "cell_type": "code",
      "source": [
        "import Controller\n",
        "\n",
        "\n",
        "class App:\n",
        "    def __init__(self):\n",
        "        self.controller = Controller\n",
        "\n",
        "    def run(self):\n",
        "        self.controller.run_task_manager()\n",
        "\n",
        "\n",
        "if __name__ == \"__main__\":\n",
        "    app = App()\n",
        "    app.run()\n"
      ],
      "metadata": {
        "id": "qbr_f8p3bhU4"
      },
      "execution_count": null,
      "outputs": []
    },
    {
      "cell_type": "markdown",
      "source": [
        "## View.py"
      ],
      "metadata": {
        "id": "iIB0pFwacAz1"
      }
    },
    {
      "cell_type": "code",
      "source": [
        "from prettytable import PrettyTable  # python -m pip install -U prettytable\n",
        "\n",
        "\n",
        "class View_task:\n",
        "    def __inint__(self, view):\n",
        "        self.view = view\n",
        "\n",
        "\n",
        "def display_tasks(tasks):\n",
        "    table = PrettyTable()\n",
        "    table.field_names = [\"Task Number\", \"Task Description\", \"Task Completion\"]\n",
        "\n",
        "    for index, value in enumerate(tasks):\n",
        "        table.add_row([index, value.task_description, value.task_status_completed])\n",
        "    print(table)\n",
        "\n",
        "def display_report(tasks, deleted_tasks):\n",
        "    table_complete = PrettyTable()\n",
        "    table_complete.field_names = [\"Task Number\", \"Task Description\"]\n",
        "    table_incomplete = PrettyTable()\n",
        "    table_incomplete.field_names = [\"Task Number\", \"Task Description\"]\n",
        "    table_deleted = PrettyTable()\n",
        "    table_deleted.field_names = [\"Task Number\", \"Task Description\", \"Task Completion\"]\n",
        "\n",
        "    show_complete = False\n",
        "    show_incomplete = False\n",
        "\n",
        "    for index, value in enumerate(tasks):\n",
        "        if value.task_status_completed:\n",
        "          show_complete = True\n",
        "          table_complete.add_row([index, value.task_description])\n",
        "        else:\n",
        "          show_incomplete = True\n",
        "          table_incomplete.add_row([index, value.task_description])\n",
        "\n",
        "    if show_complete:\n",
        "        print(\"------------ Completed Tasks ------------\")\n",
        "        print(table_complete, end='\\n')\n",
        "    if show_incomplete:\n",
        "        print(\"------------ Incompleted Tasks ------------\")\n",
        "        print(table_incomplete, end='\\n')\n",
        "    if deleted_tasks:\n",
        "        print(\"------------ Deleted Tasks ------------\")\n",
        "        for index, value in enumerate(deleted_tasks):\n",
        "          table_deleted.add_row([index, value.task_description, value.task_status_completed])\n",
        "        print(table_deleted, end='\\n')\n",
        "        # print(deleted_tasks)\n",
        "\n",
        "def display_message(message):\n",
        "    print(message)\n",
        "\n",
        "\n",
        "def get_user_input(message):\n",
        "    return input(message)\n"
      ],
      "metadata": {
        "id": "WYKVzkeGOMxo"
      },
      "execution_count": null,
      "outputs": []
    },
    {
      "cell_type": "markdown",
      "source": [
        "## Model.py"
      ],
      "metadata": {
        "id": "AiZWVqeFcMiV"
      }
    },
    {
      "cell_type": "code",
      "source": [
        "class Model_task:\n",
        "    def __init__(\n",
        "        self, task_id, task_description, task_status_completed=False, task_list=[]\n",
        "    ):\n",
        "        self.task_id = task_id\n",
        "        self.task_description = task_description\n",
        "        self.task_status_completed = task_status_completed\n",
        "        self.task_list = task_list\n",
        "\n",
        "    def set_completed(self):\n",
        "        self.task_status_completed = True\n"
      ],
      "metadata": {
        "id": "RYP7GBu5VVfK"
      },
      "execution_count": null,
      "outputs": []
    },
    {
      "cell_type": "markdown",
      "source": [
        "## Controller.py"
      ],
      "metadata": {
        "id": "NUDf9txGcRAy"
      }
    },
    {
      "cell_type": "code",
      "source": [
        "from Model import Model_task\n",
        "from View import display_tasks, display_message, display_report, get_user_input\n",
        "import time\n",
        "import copy\n",
        "\n",
        "task_list = []\n",
        "task_list_deleted = []\n",
        "\n",
        "\n",
        "def add_task():\n",
        "    \"\"\"Function for adding a task\"\"\"\n",
        "\n",
        "    print(\"You have chosen to add a new task\")\n",
        "    task_description = get_user_input(\"Please enter the task description: \")\n",
        "\n",
        "    # Use unit time as a unique task id\n",
        "    unix_time_now = int(time.time())\n",
        "    new_task = Model_task(unix_time_now, task_description)\n",
        "\n",
        "    task_list.append(new_task)\n",
        "\n",
        "    display_message(f\"New task: {task_description} is added\")\n",
        "    display_tasks(task_list)\n",
        "\n",
        "\n",
        "def remove_task():\n",
        "    \"\"\"Function for removing a task\"\"\"\n",
        "\n",
        "    print(\"You have chosen to remove a task.\")\n",
        "\n",
        "    if not task_list:\n",
        "        display_message(\"The task list is empty.\")\n",
        "        return\n",
        "\n",
        "    display_tasks(task_list)\n",
        "\n",
        "    while True:\n",
        "        task_number = get_user_input(\"Remove a task by task number: \")\n",
        "        if not task_number.isdigit():\n",
        "            display_message(\"Please enter a valid digit.\")\n",
        "            continue\n",
        "        task_number = int(task_number)\n",
        "        if task_number >= len(task_list):\n",
        "            display_message(\"Please enter a valid task number.\")\n",
        "            continue\n",
        "        task_list_deepcopy = copy.deepcopy(task_list)\n",
        "        task_list_deleted.append(task_list_deepcopy[task_number])\n",
        "        del task_list[task_number]\n",
        "        display_tasks(task_list)\n",
        "        break\n",
        "\n",
        "\n",
        "def mark_task_complete():\n",
        "    \"\"\"Function for marking a task complete\"\"\"\n",
        "\n",
        "    if not task_list:\n",
        "        display_message(\"The task list is empty.\")\n",
        "        return\n",
        "\n",
        "    print(\"You have chosen to mark a task complete.\")\n",
        "\n",
        "    display_tasks(task_list)\n",
        "    while True:\n",
        "        task_number = get_user_input(\"Please select a task number to mark complete: \")\n",
        "        if not task_number.isdigit():\n",
        "            display_message(\"Please enter a valid digit.\")\n",
        "            continue\n",
        "        task_number = int(task_number)\n",
        "        if task_number >= len(task_list):\n",
        "            display_message(\"Please enter a valid task number.\")\n",
        "            continue\n",
        "        task_list[task_number].set_completed()\n",
        "        display_tasks(task_list)\n",
        "        break\n",
        "\n",
        "\n",
        "def view_tasks():\n",
        "    \"\"\"Function for viewing tasks\"\"\"\n",
        "\n",
        "    if not task_list:\n",
        "        display_message(\"The task list is empty.\")\n",
        "        return\n",
        "    display_tasks(task_list)\n",
        "\n",
        "def create_report():\n",
        "    \"\"\"Function for creating a report\"\"\"\n",
        "\n",
        "    if not task_list:\n",
        "        display_message(\"The task list is empty.\")\n",
        "        return\n",
        "    display_report(task_list, task_list_deleted)\n",
        "\n",
        "\n",
        "\n",
        "def run_task_manager():\n",
        "    while True:\n",
        "        display_message(\n",
        "            \"\"\"\n",
        "      Please select a task from the following:\n",
        "      1 - Add a task\n",
        "      2 - View tasks\n",
        "      3 - Remove a task\n",
        "      4 - Mark a task as complete\n",
        "      5 - Report\n",
        "      6 - Exit\n",
        "    \"\"\"\n",
        "        )\n",
        "        user_input = get_user_input(\"-> \")\n",
        "        if user_input not in (\"1\", \"2\", \"3\", \"4\", \"5\", \"6\"):\n",
        "            display_message(\"Please enter a digit between 1 and 6.\")\n",
        "            continue\n",
        "        if user_input == \"1\":\n",
        "            add_task()\n",
        "        elif user_input == \"2\":\n",
        "            view_tasks()\n",
        "        elif user_input == \"3\":\n",
        "            remove_task()\n",
        "        elif user_input == \"4\":\n",
        "            mark_task_complete()\n",
        "        elif user_input == \"5\":\n",
        "            create_report()\n",
        "        else:\n",
        "            display_message(\"Exit...\")\n",
        "            break\n",
        "\n",
        "\n",
        "if __name__ == \"__main__\":\n",
        "    run_task_manager()\n"
      ],
      "metadata": {
        "id": "5FxFXWbaOaU4"
      },
      "execution_count": null,
      "outputs": []
    }
  ]
}